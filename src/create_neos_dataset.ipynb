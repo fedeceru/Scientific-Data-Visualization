{
 "cells": [
  {
   "cell_type": "code",
   "execution_count": 8,
   "id": "bb93af30",
   "metadata": {},
   "outputs": [],
   "source": [
    "import os\n",
    "import json\n",
    "import requests\n",
    "from dotenv import load_dotenv\n",
    "import pandas as pd"
   ]
  },
  {
   "cell_type": "code",
   "execution_count": 9,
   "id": "d865fe37",
   "metadata": {},
   "outputs": [
    {
     "data": {
      "text/plain": [
       "True"
      ]
     },
     "execution_count": 9,
     "metadata": {},
     "output_type": "execute_result"
    }
   ],
   "source": [
    "load_dotenv()"
   ]
  },
  {
   "cell_type": "code",
   "execution_count": 10,
   "id": "50a7f49b",
   "metadata": {},
   "outputs": [],
   "source": [
    "BASE_URL = 'https://api.nasa.gov'\n",
    "api_key = os.getenv(\"nasa_api_key\")\n",
    "initial_url = f'{BASE_URL}/neo/rest/v1/neo/browse?api_key={api_key}'"
   ]
  },
  {
   "cell_type": "code",
   "execution_count": 22,
   "id": "fd6fba52",
   "metadata": {},
   "outputs": [
    {
     "name": "stdout",
     "output_type": "stream",
     "text": [
      "200, OK\n"
     ]
    }
   ],
   "source": [
    "response = requests.get(initial_url)\n",
    "if response.status_code == 200:\n",
    "    print(\"200, OK\")"
   ]
  },
  {
   "cell_type": "code",
   "execution_count": 12,
   "id": "951930c2",
   "metadata": {},
   "outputs": [],
   "source": [
    "def get_neos_data():\n",
    "    limit = 400\n",
    "    url = initial_url\n",
    "    neos_data = []\n",
    "\n",
    "    for _ in range(limit):\n",
    "        response = requests.get(url)\n",
    "\n",
    "        if response.status_code != 200:\n",
    "            print(f\"Error: {response.status_code}\")\n",
    "            break\n",
    "\n",
    "        try:\n",
    "            data = response.json()\n",
    "            neos_data.extend(data['near_earth_objects'])\n",
    "            url = data['links'].get('next')\n",
    "            if not url:\n",
    "                break     \n",
    "        except json.JSONDecodeError:\n",
    "            print(\"Error decoding JSON response\")\n",
    "            break\n",
    "\n",
    "    return neos_data"
   ]
  },
  {
   "cell_type": "code",
   "execution_count": 13,
   "id": "ae618964",
   "metadata": {},
   "outputs": [],
   "source": [
    "def clean_neos_data(neos_raw):\n",
    "    neos_cleaned = []\n",
    "\n",
    "    for neo in neos_raw:\n",
    "        neo_clean = {\n",
    "            'id': neo.get('id'),\n",
    "            'name': neo.get('name'),\n",
    "            'is_potentially_hazardous_asteroid': neo.get('is_potentially_hazardous_asteroid'),\n",
    "            'estimated_diameter_km_max': neo.get('estimated_diameter', {}).get('kilometers', {}).get('estimated_diameter_max'),\n",
    "            'approach_data': []\n",
    "        }\n",
    "\n",
    "        approach_data = neo.get('close_approach_data', [])\n",
    "\n",
    "        for approach in approach_data:\n",
    "            approach_clean = {\n",
    "                'close_approach_date': approach.get('close_approach_date'),\n",
    "                'relative_velocity_kph': float(approach.get('relative_velocity', {}).get('kilometers_per_hour', 0.0)),\n",
    "                'miss_distance_km': float(approach.get('miss_distance', {}).get('kilometers', 0.0)),\n",
    "                'orbiting_body': approach.get('orbiting_body')\n",
    "            }\n",
    "            neo_clean['approach_data'].append(approach_clean)\n",
    "\n",
    "        neos_cleaned.append(neo_clean)\n",
    "\n",
    "    return neos_cleaned"
   ]
  },
  {
   "cell_type": "code",
   "execution_count": 14,
   "id": "bef223c1",
   "metadata": {},
   "outputs": [],
   "source": [
    "neos_raw = get_neos_data()\n",
    "neos_cleaned = clean_neos_data(neos_raw)"
   ]
  },
  {
   "cell_type": "code",
   "execution_count": 15,
   "id": "71a0421b",
   "metadata": {},
   "outputs": [
    {
     "data": {
      "text/html": [
       "<div>\n",
       "<style scoped>\n",
       "    .dataframe tbody tr th:only-of-type {\n",
       "        vertical-align: middle;\n",
       "    }\n",
       "\n",
       "    .dataframe tbody tr th {\n",
       "        vertical-align: top;\n",
       "    }\n",
       "\n",
       "    .dataframe thead th {\n",
       "        text-align: right;\n",
       "    }\n",
       "</style>\n",
       "<table border=\"1\" class=\"dataframe\">\n",
       "  <thead>\n",
       "    <tr style=\"text-align: right;\">\n",
       "      <th></th>\n",
       "      <th>id</th>\n",
       "      <th>name</th>\n",
       "      <th>is_potentially_hazardous_asteroid</th>\n",
       "      <th>estimated_diameter_km_max</th>\n",
       "      <th>approach_data</th>\n",
       "    </tr>\n",
       "  </thead>\n",
       "  <tbody>\n",
       "    <tr>\n",
       "      <th>0</th>\n",
       "      <td>2000433</td>\n",
       "      <td>433 Eros (A898 PA)</td>\n",
       "      <td>False</td>\n",
       "      <td>49.208483</td>\n",
       "      <td>[{'close_approach_date': '1900-12-27', 'relati...</td>\n",
       "    </tr>\n",
       "    <tr>\n",
       "      <th>1</th>\n",
       "      <td>2000719</td>\n",
       "      <td>719 Albert (A911 TB)</td>\n",
       "      <td>False</td>\n",
       "      <td>4.529393</td>\n",
       "      <td>[{'close_approach_date': '1909-08-21', 'relati...</td>\n",
       "    </tr>\n",
       "    <tr>\n",
       "      <th>2</th>\n",
       "      <td>2000887</td>\n",
       "      <td>887 Alinda (A918 AA)</td>\n",
       "      <td>False</td>\n",
       "      <td>10.328565</td>\n",
       "      <td>[{'close_approach_date': '1974-01-04', 'relati...</td>\n",
       "    </tr>\n",
       "    <tr>\n",
       "      <th>3</th>\n",
       "      <td>2001036</td>\n",
       "      <td>1036 Ganymed (A924 UB)</td>\n",
       "      <td>False</td>\n",
       "      <td>86.704169</td>\n",
       "      <td>[{'close_approach_date': '1910-02-25', 'relati...</td>\n",
       "    </tr>\n",
       "    <tr>\n",
       "      <th>4</th>\n",
       "      <td>2001221</td>\n",
       "      <td>1221 Amor (1932 EA1)</td>\n",
       "      <td>False</td>\n",
       "      <td>1.995446</td>\n",
       "      <td>[{'close_approach_date': '1908-03-14', 'relati...</td>\n",
       "    </tr>\n",
       "  </tbody>\n",
       "</table>\n",
       "</div>"
      ],
      "text/plain": [
       "        id                    name  is_potentially_hazardous_asteroid  \\\n",
       "0  2000433      433 Eros (A898 PA)                              False   \n",
       "1  2000719    719 Albert (A911 TB)                              False   \n",
       "2  2000887    887 Alinda (A918 AA)                              False   \n",
       "3  2001036  1036 Ganymed (A924 UB)                              False   \n",
       "4  2001221    1221 Amor (1932 EA1)                              False   \n",
       "\n",
       "   estimated_diameter_km_max  \\\n",
       "0                  49.208483   \n",
       "1                   4.529393   \n",
       "2                  10.328565   \n",
       "3                  86.704169   \n",
       "4                   1.995446   \n",
       "\n",
       "                                       approach_data  \n",
       "0  [{'close_approach_date': '1900-12-27', 'relati...  \n",
       "1  [{'close_approach_date': '1909-08-21', 'relati...  \n",
       "2  [{'close_approach_date': '1974-01-04', 'relati...  \n",
       "3  [{'close_approach_date': '1910-02-25', 'relati...  \n",
       "4  [{'close_approach_date': '1908-03-14', 'relati...  "
      ]
     },
     "execution_count": 15,
     "metadata": {},
     "output_type": "execute_result"
    }
   ],
   "source": [
    "asteroids_df = pd.DataFrame(neos_cleaned)\n",
    "asteroids_df.head()"
   ]
  },
  {
   "cell_type": "code",
   "execution_count": 16,
   "id": "7de8e7ba",
   "metadata": {},
   "outputs": [],
   "source": [
    "asteroids_df.to_csv('./datasets/asteroid.csv')"
   ]
  },
  {
   "cell_type": "code",
   "execution_count": 19,
   "id": "80718f5f",
   "metadata": {},
   "outputs": [
    {
     "data": {
      "text/html": [
       "<div>\n",
       "<style scoped>\n",
       "    .dataframe tbody tr th:only-of-type {\n",
       "        vertical-align: middle;\n",
       "    }\n",
       "\n",
       "    .dataframe tbody tr th {\n",
       "        vertical-align: top;\n",
       "    }\n",
       "\n",
       "    .dataframe thead th {\n",
       "        text-align: right;\n",
       "    }\n",
       "</style>\n",
       "<table border=\"1\" class=\"dataframe\">\n",
       "  <thead>\n",
       "    <tr style=\"text-align: right;\">\n",
       "      <th></th>\n",
       "      <th>close_approach_date</th>\n",
       "      <th>relative_velocity_kph</th>\n",
       "      <th>miss_distance_km</th>\n",
       "      <th>orbiting_body</th>\n",
       "      <th>asteroid_id</th>\n",
       "      <th>asteroid_name</th>\n",
       "    </tr>\n",
       "  </thead>\n",
       "  <tbody>\n",
       "    <tr>\n",
       "      <th>0</th>\n",
       "      <td>1900-12-27</td>\n",
       "      <td>20083.029075</td>\n",
       "      <td>4.711273e+07</td>\n",
       "      <td>Earth</td>\n",
       "      <td>2000433</td>\n",
       "      <td>433 Eros (A898 PA)</td>\n",
       "    </tr>\n",
       "    <tr>\n",
       "      <th>1</th>\n",
       "      <td>1907-11-05</td>\n",
       "      <td>15820.167199</td>\n",
       "      <td>7.053323e+07</td>\n",
       "      <td>Earth</td>\n",
       "      <td>2000433</td>\n",
       "      <td>433 Eros (A898 PA)</td>\n",
       "    </tr>\n",
       "    <tr>\n",
       "      <th>2</th>\n",
       "      <td>1917-04-20</td>\n",
       "      <td>17340.422466</td>\n",
       "      <td>7.468781e+07</td>\n",
       "      <td>Earth</td>\n",
       "      <td>2000433</td>\n",
       "      <td>433 Eros (A898 PA)</td>\n",
       "    </tr>\n",
       "    <tr>\n",
       "      <th>3</th>\n",
       "      <td>1924-03-05</td>\n",
       "      <td>16545.797588</td>\n",
       "      <td>5.382329e+07</td>\n",
       "      <td>Earth</td>\n",
       "      <td>2000433</td>\n",
       "      <td>433 Eros (A898 PA)</td>\n",
       "    </tr>\n",
       "    <tr>\n",
       "      <th>4</th>\n",
       "      <td>1931-01-30</td>\n",
       "      <td>21314.946723</td>\n",
       "      <td>2.604097e+07</td>\n",
       "      <td>Earth</td>\n",
       "      <td>2000433</td>\n",
       "      <td>433 Eros (A898 PA)</td>\n",
       "    </tr>\n",
       "  </tbody>\n",
       "</table>\n",
       "</div>"
      ],
      "text/plain": [
       "  close_approach_date  relative_velocity_kph  miss_distance_km orbiting_body  \\\n",
       "0          1900-12-27           20083.029075      4.711273e+07         Earth   \n",
       "1          1907-11-05           15820.167199      7.053323e+07         Earth   \n",
       "2          1917-04-20           17340.422466      7.468781e+07         Earth   \n",
       "3          1924-03-05           16545.797588      5.382329e+07         Earth   \n",
       "4          1931-01-30           21314.946723      2.604097e+07         Earth   \n",
       "\n",
       "  asteroid_id       asteroid_name  \n",
       "0     2000433  433 Eros (A898 PA)  \n",
       "1     2000433  433 Eros (A898 PA)  \n",
       "2     2000433  433 Eros (A898 PA)  \n",
       "3     2000433  433 Eros (A898 PA)  \n",
       "4     2000433  433 Eros (A898 PA)  "
      ]
     },
     "execution_count": 19,
     "metadata": {},
     "output_type": "execute_result"
    }
   ],
   "source": [
    "df_exploded = asteroids_df.explode('approach_data')\n",
    "df_exploded = df_exploded[df_exploded['approach_data'].apply(lambda x: isinstance(x, dict))]\n",
    "approach_df = pd.DataFrame(df_exploded['approach_data'].tolist())\n",
    "df_exploded = df_exploded.reset_index(drop=True)\n",
    "approach_df[\"asteroid_id\"] = df_exploded[\"id\"].reset_index(drop=True)\n",
    "approach_df[\"asteroid_name\"] = df_exploded[\"name\"].reset_index(drop=True)\n",
    "approach_df.head()"
   ]
  },
  {
   "cell_type": "code",
   "execution_count": 20,
   "id": "22548db9",
   "metadata": {},
   "outputs": [],
   "source": [
    "approach_df.to_csv('./datasets/approach.csv')"
   ]
  }
 ],
 "metadata": {
  "kernelspec": {
   "display_name": "env",
   "language": "python",
   "name": "python3"
  },
  "language_info": {
   "codemirror_mode": {
    "name": "ipython",
    "version": 3
   },
   "file_extension": ".py",
   "mimetype": "text/x-python",
   "name": "python",
   "nbconvert_exporter": "python",
   "pygments_lexer": "ipython3",
   "version": "3.8.0"
  }
 },
 "nbformat": 4,
 "nbformat_minor": 5
}
